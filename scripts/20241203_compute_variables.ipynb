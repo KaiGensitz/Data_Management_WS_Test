{
  "metadata": {
    "kernelspec": {
      "name": "python",
      "display_name": "Python (Pyodide)",
      "language": "python"
    },
    "language_info": {
      "name": ""
    }
  },
  "nbformat_minor": 4,
  "nbformat": 4,
  "cells": [
    {
      "cell_type": "markdown",
      "source": "# Contact Information",
      "metadata": {}
    },
    {
      "cell_type": "markdown",
      "source": "Author: Kai Gensitz\n\nE-Mail: kai.gensitz@unibe.ch\n\nDate: 03rd December 2024",
      "metadata": {}
    },
    {
      "cell_type": "markdown",
      "source": "# Analysis",
      "metadata": {}
    },
    {
      "cell_type": "markdown",
      "source": "## Compute Variables",
      "metadata": {}
    },
    {
      "cell_type": "markdown",
      "source": "Here we compute variables:\n\n* temperature\n* humidity",
      "metadata": {}
    },
    {
      "cell_type": "code",
      "source": "temperature=30/23",
      "metadata": {
        "trusted": true
      },
      "outputs": [],
      "execution_count": null
    },
    {
      "cell_type": "code",
      "source": "temperature",
      "metadata": {
        "trusted": true
      },
      "outputs": [],
      "execution_count": null
    },
    {
      "cell_type": "code",
      "source": "",
      "metadata": {
        "trusted": true
      },
      "outputs": [],
      "execution_count": null
    }
  ]
}